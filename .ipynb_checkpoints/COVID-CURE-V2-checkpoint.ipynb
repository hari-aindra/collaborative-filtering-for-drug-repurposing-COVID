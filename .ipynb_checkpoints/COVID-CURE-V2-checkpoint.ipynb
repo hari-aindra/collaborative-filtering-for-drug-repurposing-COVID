{
 "cells": [
  {
   "cell_type": "markdown",
   "metadata": {},
   "source": [
    "# Using Collaborative Filtering To Repurpose Drugs for COVID-19"
   ]
  },
  {
   "cell_type": "markdown",
   "metadata": {},
   "source": [
    "*** from https://time.com/5819965/coronavirus-treatments-research/ ***\n",
    "\n",
    "### Introduction\n",
    "There are no treatments proven to disable SARS-CoV-2, the virus that causes COVID-19, which means all the options scientists are exploring are still very much in the trial-and-error stage. \n",
    "\n",
    "The sense of urgency is pushing researchers at academic institutes as well as pharmaceutical companies to turn to their libraries of thousands of approved drugs or compounds that are in early testing and screening to see if any can disable SARS-CoV-2. Because these are either already approved and deemed safe for people, if any emerge as possible anti-COVID-19 therapies, companies could begin testing them in people infected with the virus within weeks.\n",
    "\n",
    "This notebook is attempting to accelerate this process of drug repurposing by using a popular and relatively simple technique called Collaborative Filtering to search for potential drug candidates. \n"
   ]
  },
  {
   "cell_type": "markdown",
   "metadata": {},
   "source": [
    "### What is Collaborative Filtering and How Can We Use It for Drug Repurposing?\n",
    "\n",
    "When a website recommends a product to you it can recommend the product to you in one fo two ways: \n",
    "1. Using a content based approach (you are female, married and aged 30+; this product is bought by married females aged 30+ and therefore can be recommended to you) \n",
    "2. Using collaborative filtering wherein the latent factors (female, married, aged 30+ etc.) of the product and the user are not used but rather, they are inferred based on past purchases. More info here - https://en.wikipedia.org/wiki/Collaborative_filtering\n",
    "\n",
    "We're using collaborative filtering for drug repurposing by simply replacing users with drugs and products with diseases. So if we have a large enough database of drugs and disease conditions, we could, in theory predict the efficacy of a drug on a particular disease condition (ex: COVID-19). \n",
    "\n",
    "This approach has been tried earlier for diseases such as Alzheimers and stroke - https://en.wikipedia.org/wiki/Collaborative_filtering\n",
    "\n"
   ]
  },
  {
   "cell_type": "markdown",
   "metadata": {},
   "source": [
    "### Potential Drawbacks of Collaborative Filtering For COVID-19\n",
    "1. \"Cold Start Problem\" - since COVID-19 is a new disease and no drug has been conclusively proven to be efficacious against the disease, we simply do not have the right amount of data to make a prediction. This situation will rapidly change if some existing drug emerges as having efficacy. For the purpose of modeling here, I've simply taken three drugs that have anecdotally shown some efficacy. Drugs used for modeling here are: \n",
    "    - Chloroquine\n",
    "    - Ritonavir\n",
    "    - Lopinavir\t\n",
    "    \n",
    "\n",
    "2. Popular drugs may get recommended more ... we'll need to watch out for drugs that address many types of cancers."
   ]
  },
  {
   "cell_type": "markdown",
   "metadata": {},
   "source": [
    "### Code for Collaborative Filtering"
   ]
  },
  {
   "cell_type": "code",
   "execution_count": 7,
   "metadata": {},
   "outputs": [],
   "source": [
    "from fastai.collab import *\n",
    "from fastai.tabular import *"
   ]
  },
  {
   "cell_type": "code",
   "execution_count": 13,
   "metadata": {},
   "outputs": [],
   "source": [
    "drug_diseases = pd.read_csv('./repoDBV2.csv')"
   ]
  },
  {
   "cell_type": "code",
   "execution_count": 14,
   "metadata": {},
   "outputs": [
    {
     "data": {
      "text/html": [
       "<div>\n",
       "<style scoped>\n",
       "    .dataframe tbody tr th:only-of-type {\n",
       "        vertical-align: middle;\n",
       "    }\n",
       "\n",
       "    .dataframe tbody tr th {\n",
       "        vertical-align: top;\n",
       "    }\n",
       "\n",
       "    .dataframe thead th {\n",
       "        text-align: right;\n",
       "    }\n",
       "</style>\n",
       "<table border=\"1\" class=\"dataframe\">\n",
       "  <thead>\n",
       "    <tr style=\"text-align: right;\">\n",
       "      <th></th>\n",
       "      <th>drug_name</th>\n",
       "      <th>ind_name</th>\n",
       "      <th>rating</th>\n",
       "    </tr>\n",
       "  </thead>\n",
       "  <tbody>\n",
       "    <tr>\n",
       "      <th>0</th>\n",
       "      <td>Lepirudin</td>\n",
       "      <td>Heparin-induced thrombocytopenia with thrombosis</td>\n",
       "      <td>1</td>\n",
       "    </tr>\n",
       "    <tr>\n",
       "      <th>1</th>\n",
       "      <td>Cetuximab</td>\n",
       "      <td>Squamous cell carcinoma of mouth</td>\n",
       "      <td>1</td>\n",
       "    </tr>\n",
       "    <tr>\n",
       "      <th>2</th>\n",
       "      <td>Cetuximab</td>\n",
       "      <td>Squamous cell carcinoma of nose</td>\n",
       "      <td>1</td>\n",
       "    </tr>\n",
       "    <tr>\n",
       "      <th>3</th>\n",
       "      <td>Cetuximab</td>\n",
       "      <td>Squamous cell carcinoma of pharynx</td>\n",
       "      <td>1</td>\n",
       "    </tr>\n",
       "    <tr>\n",
       "      <th>4</th>\n",
       "      <td>Cetuximab</td>\n",
       "      <td>Laryngeal Squamous Cell Carcinoma</td>\n",
       "      <td>1</td>\n",
       "    </tr>\n",
       "  </tbody>\n",
       "</table>\n",
       "</div>"
      ],
      "text/plain": [
       "   drug_name                                          ind_name  rating\n",
       "0  Lepirudin  Heparin-induced thrombocytopenia with thrombosis       1\n",
       "1  Cetuximab                  Squamous cell carcinoma of mouth       1\n",
       "2  Cetuximab                   Squamous cell carcinoma of nose       1\n",
       "3  Cetuximab                Squamous cell carcinoma of pharynx       1\n",
       "4  Cetuximab                 Laryngeal Squamous Cell Carcinoma       1"
      ]
     },
     "execution_count": 14,
     "metadata": {},
     "output_type": "execute_result"
    }
   ],
   "source": [
    "drug_diseases.head()"
   ]
  },
  {
   "cell_type": "code",
   "execution_count": 15,
   "metadata": {},
   "outputs": [
    {
     "data": {
      "text/plain": [
       "(10565, 3)"
      ]
     },
     "execution_count": 15,
     "metadata": {},
     "output_type": "execute_result"
    }
   ],
   "source": [
    "#this dataset has 10,565 rows\n",
    "#if a drug is used for a disease, we give it a rating of 1\n",
    "drug_diseases.shape"
   ]
  },
  {
   "cell_type": "code",
   "execution_count": 17,
   "metadata": {},
   "outputs": [
    {
     "data": {
      "text/html": [
       "<div>\n",
       "<style scoped>\n",
       "    .dataframe tbody tr th:only-of-type {\n",
       "        vertical-align: middle;\n",
       "    }\n",
       "\n",
       "    .dataframe tbody tr th {\n",
       "        vertical-align: top;\n",
       "    }\n",
       "\n",
       "    .dataframe thead th {\n",
       "        text-align: right;\n",
       "    }\n",
       "</style>\n",
       "<table border=\"1\" class=\"dataframe\">\n",
       "  <thead>\n",
       "    <tr style=\"text-align: right;\">\n",
       "      <th></th>\n",
       "      <th>drug_name</th>\n",
       "      <th>ind_name</th>\n",
       "      <th>rating</th>\n",
       "    </tr>\n",
       "  </thead>\n",
       "  <tbody>\n",
       "    <tr>\n",
       "      <th>10560</th>\n",
       "      <td>Temozolomide</td>\n",
       "      <td>Brain Diseases</td>\n",
       "      <td>1</td>\n",
       "    </tr>\n",
       "    <tr>\n",
       "      <th>10561</th>\n",
       "      <td>Dasatinib</td>\n",
       "      <td>Brain Diseases</td>\n",
       "      <td>1</td>\n",
       "    </tr>\n",
       "    <tr>\n",
       "      <th>10562</th>\n",
       "      <td>Chloroquine</td>\n",
       "      <td>COVID-19</td>\n",
       "      <td>1</td>\n",
       "    </tr>\n",
       "    <tr>\n",
       "      <th>10563</th>\n",
       "      <td>Ritonavir</td>\n",
       "      <td>COVID-19</td>\n",
       "      <td>1</td>\n",
       "    </tr>\n",
       "    <tr>\n",
       "      <th>10564</th>\n",
       "      <td>Lopinavir</td>\n",
       "      <td>COVID-19</td>\n",
       "      <td>1</td>\n",
       "    </tr>\n",
       "  </tbody>\n",
       "</table>\n",
       "</div>"
      ],
      "text/plain": [
       "          drug_name        ind_name  rating\n",
       "10560  Temozolomide  Brain Diseases       1\n",
       "10561     Dasatinib  Brain Diseases       1\n",
       "10562   Chloroquine        COVID-19       1\n",
       "10563     Ritonavir        COVID-19       1\n",
       "10564     Lopinavir        COVID-19       1"
      ]
     },
     "execution_count": 17,
     "metadata": {},
     "output_type": "execute_result"
    }
   ],
   "source": [
    "# I've also included 3 records that pertain to \n",
    "# drugs currently being used for COVID-19\n",
    "# We've given arbitrary rating of 1 for all 3 drugs\n",
    "# even though their efficacy is as yet not fully known\n",
    "drug_diseases.tail()"
   ]
  },
  {
   "cell_type": "code",
   "execution_count": 30,
   "metadata": {},
   "outputs": [],
   "source": [
    "data = CollabDataBunch.from_df(ratings, seed=42)"
   ]
  },
  {
   "cell_type": "code",
   "execution_count": 81,
   "metadata": {},
   "outputs": [
    {
     "data": {
      "text/html": [
       "<table border=\"1\" class=\"dataframe\">\n",
       "  <thead>\n",
       "    <tr style=\"text-align: left;\">\n",
       "      <th>epoch</th>\n",
       "      <th>train_loss</th>\n",
       "      <th>valid_loss</th>\n",
       "      <th>time</th>\n",
       "    </tr>\n",
       "  </thead>\n",
       "  <tbody>\n",
       "    <tr>\n",
       "      <td>0</td>\n",
       "      <td>0.923443</td>\n",
       "      <td>0.841007</td>\n",
       "      <td>00:01</td>\n",
       "    </tr>\n",
       "    <tr>\n",
       "      <td>1</td>\n",
       "      <td>0.424292</td>\n",
       "      <td>0.319026</td>\n",
       "      <td>00:01</td>\n",
       "    </tr>\n",
       "    <tr>\n",
       "      <td>2</td>\n",
       "      <td>0.149691</td>\n",
       "      <td>0.219889</td>\n",
       "      <td>00:01</td>\n",
       "    </tr>\n",
       "    <tr>\n",
       "      <td>3</td>\n",
       "      <td>0.062668</td>\n",
       "      <td>0.196784</td>\n",
       "      <td>00:01</td>\n",
       "    </tr>\n",
       "    <tr>\n",
       "      <td>4</td>\n",
       "      <td>0.040038</td>\n",
       "      <td>0.193257</td>\n",
       "      <td>00:01</td>\n",
       "    </tr>\n",
       "  </tbody>\n",
       "</table>"
      ],
      "text/plain": [
       "<IPython.core.display.HTML object>"
      ]
     },
     "metadata": {},
     "output_type": "display_data"
    }
   ],
   "source": [
    "y_range = [-.999,1.01]\n",
    "learn = collab_learner(data, n_factors=50, y_range=y_range)\n",
    "learn.fit_one_cycle(5, 5e-3)"
   ]
  },
  {
   "cell_type": "code",
   "execution_count": 82,
   "metadata": {},
   "outputs": [
    {
     "name": "stdout",
     "output_type": "stream",
     "text": [
      "Real\tPred\tDifference\n",
      "1.0\t1.0\t-0.0\n",
      "1.0\t0.9\t-0.1\n",
      "1.0\t0.7\t-0.3\n",
      "1.0\t1.0\t-0.0\n",
      "1.0\t0.6\t-0.4\n"
     ]
    }
   ],
   "source": [
    "#sanity check to see if our model is predicting well on the validation data\n",
    "(drug, disease), efficacy = next(iter(data.valid_dl))\n",
    "preds = learn.model(drug, disease)\n",
    "print('Real\\tPred\\tDifference')\n",
    "for p in list(zip(efficacy, preds))[:5]:\n",
    "    print('{}\\t{:.1f}\\t{:.1f}'.format(p[0],p[1],p[1]-p[0]))"
   ]
  },
  {
   "cell_type": "code",
   "execution_count": 83,
   "metadata": {},
   "outputs": [],
   "source": [
    "covid_candidate_drugs= pd.read_csv('./covid_candidate_drugs.csv')"
   ]
  },
  {
   "cell_type": "code",
   "execution_count": 84,
   "metadata": {},
   "outputs": [
    {
     "data": {
      "text/plain": [
       "(1572, 3)"
      ]
     },
     "execution_count": 84,
     "metadata": {},
     "output_type": "execute_result"
    }
   ],
   "source": [
    "covid_candidate_drugs.shape"
   ]
  },
  {
   "cell_type": "code",
   "execution_count": 85,
   "metadata": {},
   "outputs": [
    {
     "data": {
      "text/html": [
       "<div>\n",
       "<style scoped>\n",
       "    .dataframe tbody tr th:only-of-type {\n",
       "        vertical-align: middle;\n",
       "    }\n",
       "\n",
       "    .dataframe tbody tr th {\n",
       "        vertical-align: top;\n",
       "    }\n",
       "\n",
       "    .dataframe thead th {\n",
       "        text-align: right;\n",
       "    }\n",
       "</style>\n",
       "<table border=\"1\" class=\"dataframe\">\n",
       "  <thead>\n",
       "    <tr style=\"text-align: right;\">\n",
       "      <th></th>\n",
       "      <th>drug_name</th>\n",
       "      <th>ind_name</th>\n",
       "      <th>rating</th>\n",
       "    </tr>\n",
       "  </thead>\n",
       "  <tbody>\n",
       "    <tr>\n",
       "      <th>0</th>\n",
       "      <td>Lepirudin</td>\n",
       "      <td>COVID-19</td>\n",
       "      <td>NaN</td>\n",
       "    </tr>\n",
       "    <tr>\n",
       "      <th>1</th>\n",
       "      <td>Cetuximab</td>\n",
       "      <td>COVID-19</td>\n",
       "      <td>NaN</td>\n",
       "    </tr>\n",
       "    <tr>\n",
       "      <th>2</th>\n",
       "      <td>Dornase alfa</td>\n",
       "      <td>COVID-19</td>\n",
       "      <td>NaN</td>\n",
       "    </tr>\n",
       "    <tr>\n",
       "      <th>3</th>\n",
       "      <td>Denileukin diftitox</td>\n",
       "      <td>COVID-19</td>\n",
       "      <td>NaN</td>\n",
       "    </tr>\n",
       "    <tr>\n",
       "      <th>4</th>\n",
       "      <td>Etanercept</td>\n",
       "      <td>COVID-19</td>\n",
       "      <td>NaN</td>\n",
       "    </tr>\n",
       "  </tbody>\n",
       "</table>\n",
       "</div>"
      ],
      "text/plain": [
       "             drug_name  ind_name  rating\n",
       "0            Lepirudin  COVID-19     NaN\n",
       "1            Cetuximab  COVID-19     NaN\n",
       "2         Dornase alfa  COVID-19     NaN\n",
       "3  Denileukin diftitox  COVID-19     NaN\n",
       "4           Etanercept  COVID-19     NaN"
      ]
     },
     "execution_count": 85,
     "metadata": {},
     "output_type": "execute_result"
    }
   ],
   "source": [
    "covid_candidate_drugs.head()"
   ]
  },
  {
   "cell_type": "code",
   "execution_count": 87,
   "metadata": {},
   "outputs": [],
   "source": [
    "drugs_covid_predictions = pd.DataFrame(\n",
    "    [covid_candidate_drugs.loc[i][0], learn.predict(covid_candidate_drugs.loc[i])[0]] for i in range(covid_candidate_drugs.shape[0])\n",
    ")"
   ]
  },
  {
   "cell_type": "code",
   "execution_count": 88,
   "metadata": {},
   "outputs": [],
   "source": [
    "#drugs_df.to_csv('drug_names.csv')\n",
    "drugs_covid_predictions.to_csv('drugs_covid_predictions.csv')"
   ]
  },
  {
   "cell_type": "code",
   "execution_count": 89,
   "metadata": {},
   "outputs": [],
   "source": [
    "drugs_covid_predictions = pd.read_csv('./drugs_covid_predictions.csv')"
   ]
  },
  {
   "cell_type": "code",
   "execution_count": 91,
   "metadata": {},
   "outputs": [],
   "source": [
    "del drugs_covid_predictions['Unnamed: 0']"
   ]
  },
  {
   "cell_type": "code",
   "execution_count": 93,
   "metadata": {},
   "outputs": [],
   "source": [
    "drugs_covid_predictions.rename(columns={'0': 'drug_name', '1': 'predicted_efficacy'}, inplace=True)"
   ]
  },
  {
   "cell_type": "code",
   "execution_count": 98,
   "metadata": {},
   "outputs": [
    {
     "data": {
      "text/html": [
       "<div>\n",
       "<style scoped>\n",
       "    .dataframe tbody tr th:only-of-type {\n",
       "        vertical-align: middle;\n",
       "    }\n",
       "\n",
       "    .dataframe tbody tr th {\n",
       "        vertical-align: top;\n",
       "    }\n",
       "\n",
       "    .dataframe thead th {\n",
       "        text-align: right;\n",
       "    }\n",
       "</style>\n",
       "<table border=\"1\" class=\"dataframe\">\n",
       "  <thead>\n",
       "    <tr style=\"text-align: right;\">\n",
       "      <th></th>\n",
       "      <th>drug_name</th>\n",
       "      <th>predicted_efficacy</th>\n",
       "    </tr>\n",
       "  </thead>\n",
       "  <tbody>\n",
       "    <tr>\n",
       "      <th>700</th>\n",
       "      <td>Salicylic acid</td>\n",
       "      <td>0.199436</td>\n",
       "    </tr>\n",
       "    <tr>\n",
       "      <th>683</th>\n",
       "      <td>Metronidazole</td>\n",
       "      <td>0.199734</td>\n",
       "    </tr>\n",
       "    <tr>\n",
       "      <th>1325</th>\n",
       "      <td>Trametinib</td>\n",
       "      <td>0.200392</td>\n",
       "    </tr>\n",
       "    <tr>\n",
       "      <th>67</th>\n",
       "      <td>Bevacizumab</td>\n",
       "      <td>0.200724</td>\n",
       "    </tr>\n",
       "    <tr>\n",
       "      <th>752</th>\n",
       "      <td>Doxorubicin</td>\n",
       "      <td>0.207391</td>\n",
       "    </tr>\n",
       "    <tr>\n",
       "      <th>496</th>\n",
       "      <td>Amphotericin B</td>\n",
       "      <td>0.209665</td>\n",
       "    </tr>\n",
       "    <tr>\n",
       "      <th>939</th>\n",
       "      <td>Dexamethasone</td>\n",
       "      <td>0.211339</td>\n",
       "    </tr>\n",
       "    <tr>\n",
       "      <th>793</th>\n",
       "      <td>Benzylpenicillin</td>\n",
       "      <td>0.217711</td>\n",
       "    </tr>\n",
       "    <tr>\n",
       "      <th>968</th>\n",
       "      <td>Sunitinib</td>\n",
       "      <td>0.227656</td>\n",
       "    </tr>\n",
       "    <tr>\n",
       "      <th>360</th>\n",
       "      <td>Cisplatin</td>\n",
       "      <td>0.230221</td>\n",
       "    </tr>\n",
       "  </tbody>\n",
       "</table>\n",
       "</div>"
      ],
      "text/plain": [
       "             drug_name  predicted_efficacy\n",
       "700     Salicylic acid            0.199436\n",
       "683      Metronidazole            0.199734\n",
       "1325        Trametinib            0.200392\n",
       "67         Bevacizumab            0.200724\n",
       "752        Doxorubicin            0.207391\n",
       "496     Amphotericin B            0.209665\n",
       "939      Dexamethasone            0.211339\n",
       "793   Benzylpenicillin            0.217711\n",
       "968          Sunitinib            0.227656\n",
       "360          Cisplatin            0.230221"
      ]
     },
     "execution_count": 98,
     "metadata": {},
     "output_type": "execute_result"
    }
   ],
   "source": [
    "drugs_covid_predictions.sort_values('predicted_efficacy').tail(10)"
   ]
  },
  {
   "cell_type": "markdown",
   "metadata": {},
   "source": [
    "### Drugs from our top 5 list that are being investigated for COVID-19: \n",
    "* Bevacizumab - https://clinicaltrials.gov/ct2/show/NCT04275414 , https://clinicaltrials.gov/ct2/show/NCT04327401\n",
    "* Metronidazole - https://www.ncbi.nlm.nih.gov/pmc/articles/PMC7114714/"
   ]
  },
  {
   "cell_type": "markdown",
   "metadata": {},
   "source": [
    "### Next Steps\n",
    "- At the moment, there is insufficient evidence to abandon this approach of Collaborative Filtering. \n",
    "- Therefore, possible next steps are: \n",
    "    - Try this approach with a larger dataset\n",
    "    - Try adding improved drug-disease performance ratings (rather than 1 or nothing as it stands now)\n",
    "    - Try playing around with the hyperparameters (epochs, number of latent factors, learning rate etc.)\n",
    "    - Change score of Ruxolitinib to 1 and test (recently scientists have started researching this drug)\n"
   ]
  }
 ],
 "metadata": {
  "kernelspec": {
   "display_name": "Python 3",
   "language": "python",
   "name": "python3"
  },
  "language_info": {
   "codemirror_mode": {
    "name": "ipython",
    "version": 3
   },
   "file_extension": ".py",
   "mimetype": "text/x-python",
   "name": "python",
   "nbconvert_exporter": "python",
   "pygments_lexer": "ipython3",
   "version": "3.6.7"
  }
 },
 "nbformat": 4,
 "nbformat_minor": 2
}
